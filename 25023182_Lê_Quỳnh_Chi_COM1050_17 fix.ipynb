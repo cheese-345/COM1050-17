{
  "nbformat": 4,
  "nbformat_minor": 0,
  "metadata": {
    "colab": {
      "provenance": []
    },
    "kernelspec": {
      "name": "python3",
      "display_name": "Python 3"
    },
    "language_info": {
      "name": "python"
    }
  },
  "cells": [
    {
      "cell_type": "code",
      "execution_count": null,
      "metadata": {
        "colab": {
          "base_uri": "https://localhost:8080/"
        },
        "id": "3342Sghu-tGp",
        "outputId": "b56185d3-60ab-4fbc-9bd6-3a9fca98fb2e"
      },
      "outputs": [
        {
          "output_type": "stream",
          "name": "stdout",
          "text": [
            "2 4\n",
            "a mới là 4, b mới là 2\n"
          ]
        }
      ],
      "source": [
        "#W3A2\n",
        "a,b = map(int,input().split())\n",
        "a = a ^ b\n",
        "b = a ^ b\n",
        "a = a ^ b\n",
        "print(f\"a mới là {a}, b mới là {b}\")"
      ]
    },
    {
      "cell_type": "code",
      "source": [
        "#W3A3\n",
        "n = int(input())\n",
        "if n & (n-1) == 0:\n",
        "  print (\"n là lũy thừa của 2\")\n",
        "else:\n",
        "  print(\"n không là lũy thừa của 2\")"
      ],
      "metadata": {
        "colab": {
          "base_uri": "https://localhost:8080/"
        },
        "id": "XuekO4K2--JA",
        "outputId": "7846f67d-ef2f-44a9-91cd-159b8afe239d"
      },
      "execution_count": null,
      "outputs": [
        {
          "output_type": "stream",
          "name": "stdout",
          "text": [
            "32\n",
            "n là lũy thừa của 2\n"
          ]
        }
      ]
    },
    {
      "cell_type": "code",
      "source": [
        "#W3A4\n",
        "from math import *\n",
        "m,n = map(int,input().split())\n",
        "res = m / n\n",
        "print (floor(res))"
      ],
      "metadata": {
        "colab": {
          "base_uri": "https://localhost:8080/"
        },
        "id": "v-oXRwEg-__i",
        "outputId": "8d2083aa-7712-4bd2-d603-09f5726d856e"
      },
      "execution_count": null,
      "outputs": [
        {
          "output_type": "stream",
          "name": "stdout",
          "text": [
            "6 4\n",
            "1\n"
          ]
        }
      ]
    },
    {
      "cell_type": "code",
      "source": [
        "#W3A5\n",
        "from math import *\n",
        "m,n = map(int,input().split())\n",
        "res = m/n\n",
        "print (ceil(res))"
      ],
      "metadata": {
        "colab": {
          "base_uri": "https://localhost:8080/"
        },
        "id": "rj3Oz_Ph_Cjy",
        "outputId": "9f151f19-a1a0-4ec5-9ddf-a4c1a332f809"
      },
      "execution_count": null,
      "outputs": [
        {
          "output_type": "stream",
          "name": "stdout",
          "text": [
            "6 4\n",
            "2\n"
          ]
        }
      ]
    },
    {
      "cell_type": "code",
      "source": [
        "#W3A6\n",
        "n = int(input())\n",
        "if n % 2 == 0:\n",
        "  print (\"Even\")\n",
        "else:\n",
        "  print (\"Odd\")"
      ],
      "metadata": {
        "colab": {
          "base_uri": "https://localhost:8080/"
        },
        "id": "uS4t-n16_EbF",
        "outputId": "f3a26db0-fcf0-486c-f3a8-186d251aca94"
      },
      "execution_count": null,
      "outputs": [
        {
          "output_type": "stream",
          "name": "stdout",
          "text": [
            "1\n",
            "Odd\n"
          ]
        }
      ]
    },
    {
      "cell_type": "code",
      "source": [
        "#W3A7\n",
        "a,b = map(int,input().split())\n",
        "if a < 0 and b < 0:\n",
        "  print (\"Yes\")\n",
        "else:\n",
        "  print (\"No\")"
      ],
      "metadata": {
        "colab": {
          "base_uri": "https://localhost:8080/"
        },
        "id": "Xh3VVBz6_GeN",
        "outputId": "4aac2aaf-bb81-477d-ce7b-488fdc28011d"
      },
      "execution_count": null,
      "outputs": [
        {
          "output_type": "stream",
          "name": "stdout",
          "text": [
            "-1 0\n",
            "No\n"
          ]
        }
      ]
    },
    {
      "cell_type": "code",
      "source": [
        "#W3A8\n",
        "a,b = map(str,input().split())\n",
        "if a > b:\n",
        "  print (\"True\")\n",
        "else:\n",
        "  print (\"False\")"
      ],
      "metadata": {
        "colab": {
          "base_uri": "https://localhost:8080/"
        },
        "id": "xd8pylEO_Gr4",
        "outputId": "4a424ff6-bffd-4a30-eb58-9d7bf2c5aaff"
      },
      "execution_count": null,
      "outputs": [
        {
          "output_type": "stream",
          "name": "stdout",
          "text": [
            "4 3\n",
            "True\n"
          ]
        }
      ]
    },
    {
      "cell_type": "code",
      "source": [
        "#W3A9\n",
        "from math import *\n",
        "a,b,c = map(int,input().split())\n",
        "if (abs(a-b)<c<a+b) or (abs(b-c)<a<b+c) or (abs(a-c)<b<a+c):\n",
        "  print (\"Yes\")\n",
        "else:\n",
        "  print (\"No\")"
      ],
      "metadata": {
        "colab": {
          "base_uri": "https://localhost:8080/"
        },
        "id": "Kn9u9zb__KaT",
        "outputId": "2a6014f4-af23-412a-a4f7-ffbf72b04dac"
      },
      "execution_count": null,
      "outputs": [
        {
          "output_type": "stream",
          "name": "stdout",
          "text": [
            "3 4 5\n",
            "Yes\n"
          ]
        }
      ]
    },
    {
      "cell_type": "code",
      "source": [
        "#W3A10\n",
        "a,b,c,d = map(int,input().split())\n",
        "number_max = max (a,b,c,d)\n",
        "print (number_max)"
      ],
      "metadata": {
        "colab": {
          "base_uri": "https://localhost:8080/"
        },
        "id": "CrmTP2jF_Mb6",
        "outputId": "607fdb7c-ff0b-41a1-9c21-1aa16f26d53b"
      },
      "execution_count": null,
      "outputs": [
        {
          "output_type": "stream",
          "name": "stdout",
          "text": [
            "4 5 6 8\n",
            "8\n"
          ]
        }
      ]
    },
    {
      "cell_type": "code",
      "source": [
        "#W3A11\n",
        "from math import *\n",
        "a,b,c = map(int,input().split())\n",
        "if (abs(a-b)<c<a+b) or (abs(b-c)<a<b+c) or (abs(a-c)<b<a+c):\n",
        " if a ==b==c:\n",
        "  print(\"Tam giác đều\")\n",
        " elif a==b or a==c or b==c:\n",
        "  print(\"Tam giác cân\")\n",
        " else:\n",
        "  print(\"Tam giác thường\")\n",
        "else:\n",
        "  print(\"Không phải tam giác\")"
      ],
      "metadata": {
        "colab": {
          "base_uri": "https://localhost:8080/"
        },
        "id": "PSTYZyfy_OOK",
        "outputId": "a8a21e3b-117e-4325-8855-3b632ab91b5f"
      },
      "execution_count": null,
      "outputs": [
        {
          "output_type": "stream",
          "name": "stdout",
          "text": [
            "3 4 5\n",
            "Tam giác thường\n"
          ]
        }
      ]
    },
    {
      "cell_type": "code",
      "source": [
        "#W3A12\n",
        "n = int(input(\"Nhập vào số năm: \"))\n",
        "if (n % 4 == 0 and n % 100 != 0) or (n % 400 == 0):\n",
        "  print (\"Yes\")\n",
        "else:\n",
        "  print (\"No\")"
      ],
      "metadata": {
        "colab": {
          "base_uri": "https://localhost:8080/"
        },
        "id": "n7SDxWif_QBD",
        "outputId": "e9a8a8cd-4546-4629-dc69-1d0a31ea0f27"
      },
      "execution_count": null,
      "outputs": [
        {
          "output_type": "stream",
          "name": "stdout",
          "text": [
            "Nhập vào số năm: 2024\n",
            "Yes\n"
          ]
        }
      ]
    },
    {
      "cell_type": "code",
      "source": [
        "#W3A14\n",
        "a,b = map(float,input().split())\n",
        "if a == 0 and b == 0:\n",
        "  print (\"Vô số nghiệm\")\n",
        "elif a == 0 and b != 0:\n",
        "  print (\"Vô nghiệm\")\n",
        "else:\n",
        "  x = -b/a\n",
        "  print ('{:.2f}'.format(x))"
      ],
      "metadata": {
        "colab": {
          "base_uri": "https://localhost:8080/"
        },
        "id": "4iEMduTL_R8e",
        "outputId": "b20e048a-219d-440e-d902-1585254d149c"
      },
      "execution_count": null,
      "outputs": [
        {
          "output_type": "stream",
          "name": "stdout",
          "text": [
            "2 3\n",
            "-1.50\n"
          ]
        }
      ]
    },
    {
      "cell_type": "code",
      "source": [
        "#W3A15\n",
        "n = float (input(\"Nhập vào điểm trung bình: \"))\n",
        "if n >= 8:\n",
        "  print (\"Giỏi\")\n",
        "elif n >= 6.5:\n",
        "  print (\"Khá\")\n",
        "elif n >= 5:\n",
        "  print (\"Trung bình\")\n",
        "else:\n",
        "  print (\"Yếu\")\n"
      ],
      "metadata": {
        "colab": {
          "base_uri": "https://localhost:8080/"
        },
        "id": "QNMjLHLv_Tq2",
        "outputId": "26ece82d-9608-4845-ba55-14edbb8592b1"
      },
      "execution_count": null,
      "outputs": [
        {
          "output_type": "stream",
          "name": "stdout",
          "text": [
            "Nhập vào điểm trung bình: 9.4\n",
            "Giỏi\n"
          ]
        }
      ]
    },
    {
      "cell_type": "code",
      "source": [
        "#W3A16\n",
        "n = float (input())\n",
        "phan_nguyen = int(n)\n",
        "phan_thap_phan = n - phan_nguyen\n",
        "if n >=0:\n",
        "  lam_tron_xuong = phan_nguyen\n",
        "else:\n",
        "  if phan_thap_phan != 0:\n",
        "    lam_tron_xuong = phan_nguyen - 1\n",
        "  else:\n",
        "    lam_tron_xuong = phan_nguyen\n",
        "if n >=0:\n",
        "  if phan_thap_phan > 0:\n",
        "    lam_tron_len = phan_nguyen + 1\n",
        "  else:\n",
        "    lam_tron_len = phan_nguyen\n",
        "else:\n",
        "  lam_tron_len = phan_nguyen\n",
        "if phan_thap_phan >= 0.5:\n",
        "  lam_tron = phan_nguyen + 1\n",
        "elif phan_thap_phan <= -0.5:\n",
        "  lam_tron = phan_nguyen - 1\n",
        "else:\n",
        "  lam_tron = phan_nguyen\n",
        "print (lam_tron_xuong, lam_tron_len, lam_tron)\n"
      ],
      "metadata": {
        "colab": {
          "base_uri": "https://localhost:8080/"
        },
        "id": "B4x1BJME_VWa",
        "outputId": "e4b4e664-8cef-49d9-808e-e8318f34a348"
      },
      "execution_count": null,
      "outputs": [
        {
          "output_type": "stream",
          "name": "stdout",
          "text": [
            "-2.6\n",
            "-3 -2 -3\n"
          ]
        }
      ]
    },
    {
      "cell_type": "code",
      "source": [
        "#W3A17\n",
        "a,b,c,d = map(int,input().split())\n",
        "if a % b == 0 or b % a == 0:\n",
        "  q = b/a\n",
        "  c1 = b*q\n",
        "  d1 = c*q\n",
        "  if c == c1 and d == d1:\n",
        "    print (\"Tạo thành 1 cấp số nhân\")\n",
        "  else:\n",
        "    print (\"Không tạo thành 1 cấp số nhân\")\n",
        "else:\n",
        "  print (\"Không là cấp số nhân\")"
      ],
      "metadata": {
        "colab": {
          "base_uri": "https://localhost:8080/"
        },
        "id": "tHI4VwXo_X3s",
        "outputId": "69d34317-4958-4b00-efed-b163ac193bad"
      },
      "execution_count": null,
      "outputs": [
        {
          "output_type": "stream",
          "name": "stdout",
          "text": [
            "27 9 3 1\n",
            "Tạo thành 1 cấp số nhân\n"
          ]
        }
      ]
    }
  ]
}