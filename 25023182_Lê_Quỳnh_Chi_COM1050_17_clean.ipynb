{
  "nbformat": 4,
  "nbformat_minor": 0,
  "metadata": {},
  "cells": [
    {
      "cell_type": "code",
      "metadata": {},
      "source": [
        "#W3A2\n",
        "a,b = map(int,input().split())\n",
        "a = a ^ b\n",
        "b = a ^ b\n",
        "a = a ^ b\n",
        "print(f\"a mới là {a}, b mới là {b}\")"
      ]
    },
    {
      "cell_type": "code",
      "source": [
        "#W3A3\n",
        "n = int(input())\n",
        "if n & (n-1) == 0:\n",
        "  print (\"n là lũy thừa của 2\")\n",
        "else:\n",
        "  print(\"n không là lũy thừa của 2\")"
      ],
      "metadata": {}
    },
    {
      "cell_type": "code",
      "source": [
        "#W3A4\n",
        "from math import *\n",
        "m,n = map(int,input().split())\n",
        "res = m / n\n",
        "print (floor(res))"
      ],
      "metadata": {}
    },
    {
      "cell_type": "code",
      "source": [
        "#W3A5\n",
        "from math import *\n",
        "m,n = map(int,input().split())\n",
        "res = m/n\n",
        "print (ceil(res))"
      ],
      "metadata": {}
    },
    {
      "cell_type": "code",
      "source": [
        "#W3A6\n",
        "n = int(input())\n",
        "if n % 2 == 0:\n",
        "  print (\"Even\")\n",
        "else:\n",
        "  print (\"Odd\")"
      ],
      "metadata": {}
    },
    {
      "cell_type": "code",
      "source": [
        "#W3A7\n",
        "a,b = map(int,input().split())\n",
        "if a < 0 and b < 0:\n",
        "  print (\"Yes\")\n",
        "else:\n",
        "  print (\"No\")"
      ],
      "metadata": {}
    },
    {
      "cell_type": "code",
      "source": [
        "#W3A8\n",
        "a,b = map(str,input().split())\n",
        "if a > b:\n",
        "  print (\"True\")\n",
        "else:\n",
        "  print (\"False\")"
      ],
      "metadata": {}
    },
    {
      "cell_type": "code",
      "source": [
        "#W3A9\n",
        "from math import *\n",
        "a,b,c = map(int,input().split())\n",
        "if (abs(a-b)<c<a+b) or (abs(b-c)<a<b+c) or (abs(a-c)<b<a+c):\n",
        "  print (\"Yes\")\n",
        "else:\n",
        "  print (\"No\")"
      ],
      "metadata": {}
    },
    {
      "cell_type": "code",
      "source": [
        "#W3A10\n",
        "a,b,c,d = map(int,input().split())\n",
        "number_max = max (a,b,c,d)\n",
        "print (number_max)"
      ],
      "metadata": {}
    },
    {
      "cell_type": "code",
      "source": [
        "#W3A11\n",
        "from math import *\n",
        "a,b,c = map(int,input().split())\n",
        "if (abs(a-b)<c<a+b) or (abs(b-c)<a<b+c) or (abs(a-c)<b<a+c):\n",
        " if a ==b==c:\n",
        "  print(\"Tam giác đều\")\n",
        " elif a==b or a==c or b==c:\n",
        "  print(\"Tam giác cân\")\n",
        " else:\n",
        "  print(\"Tam giác thường\")\n",
        "else:\n",
        "  print(\"Không phải tam giác\")"
      ],
      "metadata": {}
    },
    {
      "cell_type": "code",
      "source": [
        "#W3A12\n",
        "n = int(input(\"Nhập vào số năm: \"))\n",
        "if (n % 4 == 0 and n % 100 != 0) or (n % 400 == 0):\n",
        "  print (\"Yes\")\n",
        "else:\n",
        "  print (\"No\")"
      ],
      "metadata": {}
    },
    {
      "cell_type": "code",
      "source": [
        "#W3A14\n",
        "a,b = map(float,input().split())\n",
        "if a == 0 and b == 0:\n",
        "  print (\"Vô số nghiệm\")\n",
        "elif a == 0 and b != 0:\n",
        "  print (\"Vô nghiệm\")\n",
        "else:\n",
        "  x = -b/a\n",
        "  print ('{:.2f}'.format(x))"
      ],
      "metadata": {}
    },
    {
      "cell_type": "code",
      "source": [
        "#W3A15\n",
        "n = float (input(\"Nhập vào điểm trung bình: \"))\n",
        "if n >= 8:\n",
        "  print (\"Giỏi\")\n",
        "elif n >= 6.5:\n",
        "  print (\"Khá\")\n",
        "elif n >= 5:\n",
        "  print (\"Trung bình\")\n",
        "else:\n",
        "  print (\"Yếu\")\n"
      ],
      "metadata": {}
    },
    {
      "cell_type": "code",
      "source": [
        "#W3A16\n",
        "n = float (input())\n",
        "phan_nguyen = int(n)\n",
        "phan_thap_phan = n - phan_nguyen\n",
        "if n >=0:\n",
        "  lam_tron_xuong = phan_nguyen\n",
        "else:\n",
        "  if phan_thap_phan != 0:\n",
        "    lam_tron_xuong = phan_nguyen - 1\n",
        "  else:\n",
        "    lam_tron_xuong = phan_nguyen\n",
        "if n >=0:\n",
        "  if phan_thap_phan > 0:\n",
        "    lam_tron_len = phan_nguyen + 1\n",
        "  else:\n",
        "    lam_tron_len = phan_nguyen\n",
        "else:\n",
        "  lam_tron_len = phan_nguyen\n",
        "if phan_thap_phan >= 0.5:\n",
        "  lam_tron = phan_nguyen + 1\n",
        "elif phan_thap_phan <= -0.5:\n",
        "  lam_tron = phan_nguyen - 1\n",
        "else:\n",
        "  lam_tron = phan_nguyen\n",
        "print (lam_tron_xuong, lam_tron_len, lam_tron)\n"
      ],
      "metadata": {}
    },
    {
      "cell_type": "code",
      "source": [
        "#W3A17\n",
        "a,b,c,d = map(int,input().split())\n",
        "if a % b == 0 or b % a == 0:\n",
        "  q = b/a\n",
        "  c1 = b*q\n",
        "  d1 = c*q\n",
        "  if c == c1 and d == d1:\n",
        "    print (\"Tạo thành 1 cấp số nhân\")\n",
        "  else:\n",
        "    print (\"Không tạo thành 1 cấp số nhân\")\n",
        "else:\n",
        "  print (\"Không là cấp số nhân\")"
      ],
      "metadata": {}
    }
  ]
}