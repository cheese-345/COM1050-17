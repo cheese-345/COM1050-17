{
  "nbformat": 4,
  "nbformat_minor": 0,
  "metadata": {
    "colab": {
      "provenance": [],
      "include_colab_link": true
    },
    "kernelspec": {
      "name": "python3",
      "display_name": "Python 3"
    },
    "language_info": {
      "name": "python"
    }
  },
  "cells": [
    {
      "cell_type": "markdown",
      "metadata": {
        "id": "view-in-github",
        "colab_type": "text"
      },
      "source": [
        "<a href=\"https://colab.research.google.com/github/cheese-345/COM1050-17/blob/main/25023182_L%C3%AA_Qu%E1%BB%B3nh_Chi_COM1050_17.ipynb\" target=\"_parent\"><img src=\"https://colab.research.google.com/assets/colab-badge.svg\" alt=\"Open In Colab\"/></a>"
      ]
    },
    {
      "cell_type": "code",
      "execution_count": null,
      "metadata": {
        "id": "3342Sghu-tGp"
      },
      "outputs": [],
      "source": [
        "#W3A2\n",
        "a,b = map(int,input().split())\n",
        "a = a ^ b\n",
        "b = a ^ b\n",
        "a = a ^ b\n",
        "print(f\"a mới là {a}, b mới là {b}\")"
      ]
    },
    {
      "cell_type": "code",
      "source": [
        "#W3A3\n",
        "n = int(input())\n",
        "if n & (n-1) == 0:\n",
        "  print (\"n là lũy thừa của 2\")\n",
        "else:\n",
        "  print(\"n không là lũy thừa của 2\")"
      ],
      "metadata": {
        "id": "XuekO4K2--JA"
      },
      "execution_count": null,
      "outputs": []
    },
    {
      "cell_type": "code",
      "source": [
        "#W3A4\n",
        "from math import *\n",
        "m,n = map(int,input().split())\n",
        "res = m / n\n",
        "print (floor(res))"
      ],
      "metadata": {
        "id": "v-oXRwEg-__i"
      },
      "execution_count": null,
      "outputs": []
    },
    {
      "cell_type": "code",
      "source": [
        "#W3A5\n",
        "from math import *\n",
        "m,n = map(int,input().split())\n",
        "res = m/n\n",
        "print (ceil(res))"
      ],
      "metadata": {
        "id": "rj3Oz_Ph_Cjy"
      },
      "execution_count": null,
      "outputs": []
    },
    {
      "cell_type": "code",
      "source": [
        "#W3A6\n",
        "n = int(input())\n",
        "if n % 2 == 0:\n",
        "  print (\"Even\")\n",
        "else:\n",
        "  print (\"Odd\")"
      ],
      "metadata": {
        "id": "uS4t-n16_EbF"
      },
      "execution_count": null,
      "outputs": []
    },
    {
      "cell_type": "code",
      "source": [
        "#W3A7\n",
        "a,b = map(int,input().split())\n",
        "if a < 0 and b < 0:\n",
        "  print (\"Yes\")\n",
        "else:\n",
        "  print (\"No\")"
      ],
      "metadata": {
        "id": "Xh3VVBz6_GeN"
      },
      "execution_count": null,
      "outputs": []
    },
    {
      "cell_type": "code",
      "source": [
        "#W3A8\n",
        "a,b = map(str,input().split())\n",
        "if a > b:\n",
        "  print (\"True\")\n",
        "else:\n",
        "  print (\"False\")"
      ],
      "metadata": {
        "id": "xd8pylEO_Gr4"
      },
      "execution_count": null,
      "outputs": []
    },
    {
      "cell_type": "code",
"source": [
  "#W3A9\n",
  "from math import *\n",
  "a,b,c = map(int,input().split())\n",
  "if (abs(a-b)<c<a+b) or (abs(b-c)<a<b+c) or (abs(a-c)<b<a+c):\n",
  "  print(\"Yes\")\n",
  "else:\n",
  "  print(\"No\")"
]
      "source": [
        "#W3A10\n",
        "a,b,c,d = map(int,input().split())\n",
        "number_max = max (a,b,c,d)\n",
        "print (number_max)"
      ],
      "metadata": {
        "id": "CrmTP2jF_Mb6"
      },
      "execution_count": null,
      "outputs": []
    },
    {
      "cell_type": "code",
      "source": [
        "#W3A11\n",
        "from math import *\n",
        "a,b,c = map(int,input().split())\n",
        "if (abs(a-b)<c<a+b) or (abs(b-c)<a<b+c) or (abs(a-c)<b<a+c):\n",
        " if a ==b==c:\n",
        "  print(\"Tam giác đều\")\n",
        " elif a==b or a==c or b==c:\n",
        "  print(\"Tam giác cân\")\n",
        " else:\n",
        "  print(\"Tam giác thường\")\n",
        "else:\n",
        "  print(\"Không phải tam giác\")"
      ],
      "metadata": {
        "id": "PSTYZyfy_OOK"
      },
      "execution_count": null,
      "outputs": []
    },
    {
      "cell_type": "code",
      "source": [
        "#W3A12\n",
        "n = int(input(\"Nhập vào số năm: \"))\n",
        "if (n % 4 == 0 and n % 100 != 0) or (n % 400 == 0):\n",
        "  print (\"Yes\")\n",
        "else:\n",
        "  print (\"No\")"
      ],
      "metadata": {
        "id": "n7SDxWif_QBD"
      },
      "execution_count": null,
      "outputs": []
    },
    {
      "cell_type": "code",
      "source": [
        "#W3A14\n",
        "a,b = map(float,input().split())\n",
        "if a == 0 and b == 0:\n",
        "  print (\"Vô số nghiệm\")\n",
        "elif a == 0 and b != 0:\n",
        "  print (\"Vô nghiệm\")\n",
        "else:\n",
        "  x = -b/a\n",
        "  print ('{:.2f}'.format(x))"
      ],
      "metadata": {
        "id": "4iEMduTL_R8e"
      },
      "execution_count": null,
      "outputs": []
    },
    {
      "cell_type": "code",
      "source": [
        "#W3A15\n",
        "n = float (input(\"Nhập vào điểm trung bình: \"))\n",
        "if n >= 8:\n",
        "  print (\"Giỏi\")\n",
        "elif n >= 6.5:\n",
        "  print (\"Khá\")\n",
        "elif n >= 5:\n",
        "  print (\"Trung bình\")\n",
        "else:\n",
        "  print (\"Yếu\")\n"
      ],
      "metadata": {
        "id": "QNMjLHLv_Tq2"
      },
      "execution_count": null,
      "outputs": []
    },
    {
      "cell_type": "code",
      "source": [
        "#W3A16\n",
        "n = float (input())\n",
        "phan_nguyen = int(n)\n",
        "phan_thap_phan = n - phan_nguyen\n",
        "if n >=0:\n",
        "  lam_tron_xuong = phan_nguyen\n",
        "else:\n",
        "  if phan_thap_phan != 0:\n",
        "    lam_tron_xuong = phan_nguyen - 1\n",
        "  else:\n",
        "    lam_tron_xuong = phan_nguyen\n",
        "if n >=0:\n",
        "  if phan_thap_phan > 0:\n",
        "    lam_tron_len = phan_nguyen + 1\n",
        "  else:\n",
        "    lam_tron_len = phan_nguyen\n",
        "else:\n",
        "  lam_tron_len = phan_nguyen\n",
        "if phan_thap_phan >= 0.5:\n",
        "  lam_tron = phan_nguyen + 1\n",
        "elif phan_thap_phan <= -0.5:\n",
        "  lam_tron = phan_nguyen - 1\n",
        "else:\n",
        "  lam_tron = phan_nguyen\n",
        "print (lam_tron_xuong, lam_tron_len, lam_tron)\n"
      ],
      "metadata": {
        "id": "B4x1BJME_VWa"
      },
      "execution_count": null,
      "outputs": []
    },
    {
      "cell_type": "code",
      "source": [
        "#W3A17\n",
        "a,b,c,d = map(int,input().split())\n",
        "if a % b == 0 or b % a == 0:\n",
        "  q = b/a\n",
        "  c1 = b*q\n",
        "  d1 = c*q\n",
        "  if c == c1 and d == d1:\n",
        "    print (\"Tạo thành 1 cấp số nhân\")\n",
        "  else:\n",
        "    print (\"Không tạo thành 1 cấp số nhân\")\n",
        "else:\n",
        "  print (\"Không là cấp số nhân\")"
      ],
      "metadata": {
        "id": "tHI4VwXo_X3s"
      },
      "execution_count": null,
      "outputs": []
    }
  ]
}
