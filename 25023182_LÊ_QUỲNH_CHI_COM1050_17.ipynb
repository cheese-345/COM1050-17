{
  "nbformat": 4,
  "nbformat_minor": 0,
  "metadata": {
    "colab": {
      "provenance": []
    },
    "kernelspec": {
      "name": "python3",
      "display_name": "Python 3"
    },
    "language_info": {
      "name": "python"
    }
  },
  "cells": [
    {
      "cell_type": "markdown",
      "source": [
        "# **BÀI 1**\n",
        "\n",
        "\n"
      ],
      "metadata": {
        "id": "eTWw9EDH1MXj"
      }
    },
    {
      "cell_type": "code",
      "source": [
        "#W3A2\n",
        "a,b = map(int,input().split())\n",
        "a = a ^ b\n",
        "b = a ^ b\n",
        "a = a ^ b\n",
        "print(f\"a mới là {a}, b mới là {b}\")"
      ],
      "metadata": {
        "colab": {
          "base_uri": "https://localhost:8080/"
        },
        "id": "wgbRSXLpxsAl",
        "outputId": "102d9be9-4f5e-41b3-c704-625a94c27f29"
      },
      "execution_count": 51,
      "outputs": [
        {
          "output_type": "stream",
          "name": "stdout",
          "text": [
            "2 4\n",
            "a mới là 4, b mới là 2\n"
          ]
        }
      ]
    },
    {
      "cell_type": "markdown",
      "source": [
        "# **BÀI 2**"
      ],
      "metadata": {
        "id": "w9DrsC8D1rcm"
      }
    },
    {
      "cell_type": "code",
      "source": [
        "#W3A3\n",
        "n = int(input())\n",
        "if n & (n-1) == 0:\n",
        "  print (\"n là lũy thừa của 2\")\n",
        "else:\n",
        "  print(\"n không là lũy thừa của 2\")"
      ],
      "metadata": {
        "colab": {
          "base_uri": "https://localhost:8080/"
        },
        "id": "6NWP7noAw7Ww",
        "outputId": "7402997c-d83c-42d6-d408-bb5ba13c27d2"
      },
      "execution_count": 49,
      "outputs": [
        {
          "output_type": "stream",
          "name": "stdout",
          "text": [
            "10\n",
            "n không là lũy thừa của 2\n"
          ]
        }
      ]
    },
    {
      "cell_type": "markdown",
      "source": [
        "# **BÀI 3**"
      ],
      "metadata": {
        "id": "81PqFNZb1xtd"
      }
    },
    {
      "cell_type": "code",
      "execution_count": 3,
      "metadata": {
        "colab": {
          "base_uri": "https://localhost:8080/"
        },
        "id": "D92GAFSOjARK",
        "outputId": "fb50713e-54f1-403d-d133-d2fb7f7c41ad"
      },
      "outputs": [
        {
          "output_type": "stream",
          "name": "stdout",
          "text": [
            "6 4\n",
            "1\n"
          ]
        }
      ],
      "source": [
        "#W3A4\n",
        "from math import *\n",
        "m,n = map(int,input().split())\n",
        "res = m / n\n",
        "print (floor(res))"
      ]
    },
    {
      "cell_type": "markdown",
      "source": [
        "# **BÀI 4**"
      ],
      "metadata": {
        "id": "zrsi1G4a13gS"
      }
    },
    {
      "cell_type": "code",
      "source": [
        "#W3A5\n",
        "from math import *\n",
        "m,n = map(int,input().split())\n",
        "res = m/n\n",
        "print (ceil(res))"
      ],
      "metadata": {
        "colab": {
          "base_uri": "https://localhost:8080/"
        },
        "id": "h3sxMURtj_RP",
        "outputId": "7edc0ced-8796-4674-ac2d-5bb6d276b0dc"
      },
      "execution_count": 4,
      "outputs": [
        {
          "output_type": "stream",
          "name": "stdout",
          "text": [
            "6 4\n",
            "2\n"
          ]
        }
      ]
    },
    {
      "cell_type": "markdown",
      "source": [
        "# **BÀI 5**"
      ],
      "metadata": {
        "id": "hJ0Mk-uM15b0"
      }
    },
    {
      "cell_type": "code",
      "source": [
        "#W3A6\n",
        "n = int(input())\n",
        "if n % 2 == 0:\n",
        "  print (\"Even\")\n",
        "else:\n",
        "  print (\"Odd\")"
      ],
      "metadata": {
        "colab": {
          "base_uri": "https://localhost:8080/"
        },
        "id": "egKo49cokUNX",
        "outputId": "3ac31198-093c-4186-ecd4-2b73ee5d7d75"
      },
      "execution_count": 6,
      "outputs": [
        {
          "output_type": "stream",
          "name": "stdout",
          "text": [
            "3\n",
            "Odd\n"
          ]
        }
      ]
    },
    {
      "cell_type": "markdown",
      "source": [
        "# **BÀI 6**"
      ],
      "metadata": {
        "id": "c7yVZCP-17G_"
      }
    },
    {
      "cell_type": "code",
      "source": [
        "#W3A7\n",
        "a,b = map(int,input().split())\n",
        "if a < 0 and b < 0:\n",
        "  print (\"Yes\")\n",
        "else:\n",
        "  print (\"No\")"
      ],
      "metadata": {
        "colab": {
          "base_uri": "https://localhost:8080/"
        },
        "id": "-5BSEtaPkmF0",
        "outputId": "a8724dd8-4bc8-4b76-8d45-8922437355ac"
      },
      "execution_count": 10,
      "outputs": [
        {
          "output_type": "stream",
          "name": "stdout",
          "text": [
            "-4 -2\n",
            "Yes\n"
          ]
        }
      ]
    },
    {
      "cell_type": "markdown",
      "source": [
        "# **BÀI 7**"
      ],
      "metadata": {
        "id": "O3qCDw-S2Rpg"
      }
    },
    {
      "cell_type": "code",
      "source": [
        "#W3A8\n",
        "a,b = map(str,input().split())\n",
        "if a > b:\n",
        "  print (\"True\")\n",
        "else:\n",
        "  print (\"False\")\n"
      ],
      "metadata": {
        "colab": {
          "base_uri": "https://localhost:8080/"
        },
        "id": "hoZfaMWnkw0c",
        "outputId": "7012f7ec-9ff2-470c-8c7e-8217b04e2997"
      },
      "execution_count": 12,
      "outputs": [
        {
          "output_type": "stream",
          "name": "stdout",
          "text": [
            "abc abcd\n",
            "False\n"
          ]
        }
      ]
    },
    {
      "cell_type": "markdown",
      "source": [
        "# **BÀI 8**"
      ],
      "metadata": {
        "id": "aveOYoV73v8q"
      }
    },
    {
      "cell_type": "code",
      "source": [
        "#W3A9\n",
        "from math import *\n",
        "a,b,c = map(int,input().split())\n",
        "if (abs(a-b) < c and c < a+b) or (abs(b-c)<a and a<b+c) or (abs(a-c)<b and b<a+c):\n",
        "  print (\"Yes\")\n",
        "else:\n",
        "  print (\"No\")"
      ],
      "metadata": {
        "colab": {
          "base_uri": "https://localhost:8080/"
        },
        "id": "5AcIeNx3lR8v",
        "outputId": "b71b832e-3fd0-4449-cff9-4bc5719dcff2"
      },
      "execution_count": 14,
      "outputs": [
        {
          "output_type": "stream",
          "name": "stdout",
          "text": [
            "4 4 8\n",
            "No\n"
          ]
        }
      ]
    },
    {
      "cell_type": "markdown",
      "source": [
        "# **BÀI 9**"
      ],
      "metadata": {
        "id": "DZug6h8w3yyl"
      }
    },
    {
      "cell_type": "code",
      "source": [
        "#W3A10\n",
        "a,b,c,d = map(int,input().split())\n",
        "number_max = max (a,b,c,d)\n",
        "print (number_max)"
      ],
      "metadata": {
        "colab": {
          "base_uri": "https://localhost:8080/"
        },
        "id": "t6xsw0sWl-ML",
        "outputId": "9e1aab6b-bddd-42d6-e225-c151b9c74417"
      },
      "execution_count": 15,
      "outputs": [
        {
          "output_type": "stream",
          "name": "stdout",
          "text": [
            "1 4 3 2\n",
            "4\n"
          ]
        }
      ]
    },
    {
      "cell_type": "markdown",
      "source": [
        "# **BÀI 10**"
      ],
      "metadata": {
        "id": "pJOu3HyT30q-"
      }
    },
    {
      "cell_type": "code",
      "source": [
        "#W3A11\n",
        "from math import *\n",
        "a,b,c = map(int,input().split())\n",
        "if (abs(a-b) < c and c < a+b) or (abs(b-c)<a and a<b+c) or (abs(a-c)<b and b<a+c):\n",
        "  if a == b == c:\n",
        "    print (\"Tam giác đều\")\n",
        "  elif a == b or a == c or b == c:\n",
        "    print (\"Tam giác cân\")\n",
        "  else:\n",
        "    print (\"Tam giác thường\")\n",
        "else:\n",
        "  print (\"Không phải tam giác\")"
      ],
      "metadata": {
        "colab": {
          "base_uri": "https://localhost:8080/"
        },
        "id": "B7Y0dnVemhMO",
        "outputId": "cffbd4ea-656d-4f36-c22d-81f963d7b457"
      },
      "execution_count": 21,
      "outputs": [
        {
          "output_type": "stream",
          "name": "stdout",
          "text": [
            "2 2 4\n",
            "Không phải tam giác\n"
          ]
        }
      ]
    },
    {
      "cell_type": "markdown",
      "source": [
        "# **BÀI 11**"
      ],
      "metadata": {
        "id": "NhgJVO_c326W"
      }
    },
    {
      "cell_type": "code",
      "source": [
        "#W3A12\n",
        "n = int(input(\"Nhập vào số năm\"))\n",
        "if (n % 4 == 0 and n % 100 != 0) or (n % 400 == 0):\n",
        "  print (\"Yes\")\n",
        "else:\n",
        "  print (\"No\")"
      ],
      "metadata": {
        "id": "G7_LvtRBnNiu"
      },
      "execution_count": null,
      "outputs": []
    },
    {
      "cell_type": "markdown",
      "source": [
        "# **BÀI 12**"
      ],
      "metadata": {
        "id": "82I48v2i36Ky"
      }
    },
    {
      "cell_type": "code",
      "source": [
        "#W3A14\n",
        "a,b = map(float,input().split())\n",
        "if a == 0 and b == 0:\n",
        "  print (\"Vô số nghiệm\")\n",
        "elif a == 0 and b != 0:\n",
        "  print (\"Vô nghiệm\")\n",
        "else:\n",
        "  x = -b/a\n",
        "  print ('{:.2f}'.format(x))"
      ],
      "metadata": {
        "colab": {
          "base_uri": "https://localhost:8080/"
        },
        "id": "6hcbDbZFnsIJ",
        "outputId": "83adc035-1868-4ab4-f300-39fcf714a84b"
      },
      "execution_count": 25,
      "outputs": [
        {
          "output_type": "stream",
          "name": "stdout",
          "text": [
            "4 6\n",
            "-1.50\n"
          ]
        }
      ]
    },
    {
      "cell_type": "markdown",
      "source": [
        "# **BÀI 13**"
      ],
      "metadata": {
        "id": "LgVf_tY438Gp"
      }
    },
    {
      "cell_type": "code",
      "source": [
        "#W3A15\n",
        "n = float (input(\"Nhập vào điểm trung bình: \"))\n",
        "if n >= 8:\n",
        "  print (\"Giỏi\")\n",
        "elif n >= 6.5:\n",
        "  print (\"Khá\")\n",
        "elif n >= 5:\n",
        "  print (\"Trung bình\")\n",
        "else:\n",
        "  print (\"Yếu\")\n"
      ],
      "metadata": {
        "colab": {
          "base_uri": "https://localhost:8080/"
        },
        "id": "rZihN9DzoaGr",
        "outputId": "bc62c485-693f-46eb-b864-0a5abc73f62b"
      },
      "execution_count": 27,
      "outputs": [
        {
          "output_type": "stream",
          "name": "stdout",
          "text": [
            "Nhập vào điểm trung bình: 9.2\n",
            "Giỏi\n"
          ]
        }
      ]
    },
    {
      "cell_type": "markdown",
      "source": [
        "# **BÀI 14**"
      ],
      "metadata": {
        "id": "ptA_NgJ_3-uR"
      }
    },
    {
      "cell_type": "code",
      "source": [
        "#W3A16\n",
        "n = float (input())\n",
        "phan_nguyen = int(n)\n",
        "phan_thap_phan = n - phan_nguyen\n",
        "if n >=0:\n",
        "  lam_tron_xuong = phan_nguyen\n",
        "else:\n",
        "  if phan_thap_phan != 0:\n",
        "    lam_tron_xuong = phan_nguyen - 1\n",
        "  else:\n",
        "    lam_tron_xuong = phan_nguyen\n",
        "if n >=0:\n",
        "  if phan_thap_phan > 0:\n",
        "    lam_tron_len = phan_nguyen + 1\n",
        "  else:\n",
        "    lam_tron_len = phan_nguyen\n",
        "else:\n",
        "  lam_tron_len = phan_nguyen\n",
        "if phan_thap_phan >= 0.5:\n",
        "  lam_tron = phan_nguyen + 1\n",
        "elif phan_thap_phan <= -0.5:\n",
        "  lam_tron = phan_nguyen - 1\n",
        "else:\n",
        "  lam_tron = phan_nguyen\n",
        "print (lam_tron_xuong, lam_tron_len, lam_tron)\n"
      ],
      "metadata": {
        "colab": {
          "base_uri": "https://localhost:8080/"
        },
        "id": "1EmIFv8Xs12Z",
        "outputId": "9780ca6b-2364-4ca0-f4f8-f3eb5fa0b485"
      },
      "execution_count": 44,
      "outputs": [
        {
          "output_type": "stream",
          "name": "stdout",
          "text": [
            "3.4\n",
            "3 4 3\n"
          ]
        }
      ]
    },
    {
      "cell_type": "markdown",
      "source": [
        "# **BÀI 15**"
      ],
      "metadata": {
        "id": "tL6TWQ7M4Q6s"
      }
    },
    {
      "cell_type": "code",
      "source": [
        "#W3A17\n",
        "a,b,c,d = map(int,input().split())\n",
        "if a % b == 0 or b % a == 0:\n",
        "  q = b/a\n",
        "  c1 = b*q\n",
        "  d1 = c*q\n",
        "  if c == c1 and d == d1:\n",
        "    print (\"Tạo thành 1 cấp số nhân\")\n",
        "  else:\n",
        "    print (\"Không tạo thành 1 cấp số nhân\")\n",
        "else:\n",
        "  print (\"Không là cấp số nhân\")"
      ],
      "metadata": {
        "colab": {
          "base_uri": "https://localhost:8080/"
        },
        "id": "bm0STV5Qphjj",
        "outputId": "51ced7c5-1a46-48a2-cb82-983c929383d3"
      },
      "execution_count": 33,
      "outputs": [
        {
          "output_type": "stream",
          "name": "stdout",
          "text": [
            "1 2 3 4\n",
            "Không tạo thành 1 cấp số nhân\n"
          ]
        }
      ]
    }
  ]
}